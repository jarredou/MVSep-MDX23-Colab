{
  "cells": [
    {
      "attachments": {},
      "cell_type": "markdown",
      "metadata": {
        "id": "TkR0saXIcvyC"
      },
      "source": [
        "# MVSep MDX23 Colab\n",
        "Colab version of MDX23 algorithm from [MVSEP.COM](https://www.mvsep.com)\n",
        "\n",
        "Credits:\n",
        "* [https://github.com/ZFTurbo/MVSEP-MDX23-music-separation-model](https://github.com/ZFTurbo/MVSEP-MDX23-music-separation-model)\n",
        "* Models by [Demucs](https://github.com/facebookresearch/demucs) & Kimberley Jensen"
      ]
    },
    {
      "cell_type": "code",
      "execution_count": 16,
      "metadata": {
        "cellView": "form",
        "id": "uWX5WOqjU0QC"
      },
      "outputs": [],
      "source": [
        "#@markdown #Installation\n",
        "#@markdown *Run this cell to install MVSep-MDX23*\n",
        "%%capture\n",
        "from google.colab import drive\n",
        "drive.mount('/content/drive')\n",
        "\n",
        "!git clone https://github.com/ZFTurbo/MVSEP-MDX23-music-separation-model.git\n",
        "%cd /content/MVSEP-MDX23-music-separation-model\n",
        "!pip install -r requirements.txt"
      ]
    },
    {
      "cell_type": "code",
      "execution_count": null,
      "metadata": {
        "cellView": "form",
        "id": "V7n1nXKsU4sd"
      },
      "outputs": [],
      "source": [
        "#@markdown #Separation\n",
        "from pathlib import Path\n",
        "\n",
        "def console(t):\n",
        "    get_ipython().system(t)\n",
        "\n",
        "file_path = '' #@param {type:\"string\"}\n",
        "overlap_large = 0.6 #@param {type:\"slider\", min:0.1, max:1, step:0.05}\n",
        "overlap_small = 0.5 #@param {type:\"slider\", min:0.1, max:1, step:0.05}\n",
        "#@markdown *Use lower chunk_size if you have memory errors*\n",
        "chunk_size = 500000 #@param {type:\"slider\", min:100000, max:1000000, step:100000}\n",
        "\n",
        "filename =  Path(file_path).stem\n",
        "console(f'python inference.py --chunk_size {chunk_size} --input_audio \"{file_path}\" --output_folder \"./results/{filename}\"')"
      ]
    }
  ],
  "metadata": {
    "accelerator": "GPU",
    "colab": {
      "gpuType": "T4",
      "provenance": []
    },
    "gpuClass": "standard",
    "kernelspec": {
      "display_name": "Python 3",
      "name": "python3"
    },
    "language_info": {
      "name": "python"
    }
  },
  "nbformat": 4,
  "nbformat_minor": 0
}
